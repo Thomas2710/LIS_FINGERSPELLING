{
 "cells": [
  {
   "cell_type": "code",
   "execution_count": 1,
   "id": "b617750a",
   "metadata": {},
   "outputs": [],
   "source": [
    "import cv2\n",
    "import mediapipe as mp\n",
    "import csv\n",
    "import os\n",
    "import time"
   ]
  },
  {
   "cell_type": "code",
   "execution_count": null,
   "id": "622a41ee",
   "metadata": {},
   "outputs": [
    {
     "name": "stdout",
     "output_type": "stream",
     "text": [
      "Press one of the following keys to label the data:\n",
      "'h': Hello\n",
      "'t': Thanks\n",
      "'i': I Love You\n",
      "Selected class: Hello\n",
      "Starting in 5 seconds, prepare gesture...\n"
     ]
    },
    {
     "name": "stderr",
     "output_type": "stream",
     "text": [
      "I0000 00:00:1744622393.970055    7801 gl_context_egl.cc:85] Successfully initialized EGL. Major : 1 Minor: 5\n",
      "I0000 00:00:1744622393.972954    9269 gl_context.cc:369] GL version: 3.2 (OpenGL ES 3.2 Mesa 24.2.8-1ubuntu1~24.04.1), renderer: AMD Radeon Graphics (radeonsi, renoir, LLVM 19.1.1, DRM 3.59, 6.11.0-19-generic)\n",
      "W0000 00:00:1744622393.998543    9255 inference_feedback_manager.cc:114] Feedback manager requires a model with a single signature inference. Disabling support for feedback tensors.\n",
      "W0000 00:00:1744622394.018518    9265 inference_feedback_manager.cc:114] Feedback manager requires a model with a single signature inference. Disabling support for feedback tensors.\n"
     ]
    },
    {
     "name": "stdout",
     "output_type": "stream",
     "text": [
      "Saved /home/thomas/Desktop/LIS/Third Lecture/data/h/h_me_0.JPG\n",
      "Saved /home/thomas/Desktop/LIS/Third Lecture/data/h/h_me_1.JPG\n",
      "Data collection finished!\n",
      "Selected class: I Love You\n",
      "Starting in 5 seconds, prepare gesture...\n"
     ]
    },
    {
     "name": "stderr",
     "output_type": "stream",
     "text": [
      "I0000 00:00:1744622424.315065    7801 gl_context_egl.cc:85] Successfully initialized EGL. Major : 1 Minor: 5\n",
      "I0000 00:00:1744622424.319012    9310 gl_context.cc:369] GL version: 3.2 (OpenGL ES 3.2 Mesa 24.2.8-1ubuntu1~24.04.1), renderer: AMD Radeon Graphics (radeonsi, renoir, LLVM 19.1.1, DRM 3.59, 6.11.0-19-generic)\n",
      "W0000 00:00:1744622424.331393    9298 inference_feedback_manager.cc:114] Feedback manager requires a model with a single signature inference. Disabling support for feedback tensors.\n",
      "W0000 00:00:1744622424.374076    9305 inference_feedback_manager.cc:114] Feedback manager requires a model with a single signature inference. Disabling support for feedback tensors.\n"
     ]
    },
    {
     "name": "stdout",
     "output_type": "stream",
     "text": [
      "Saved /home/thomas/Desktop/LIS/Third Lecture/data/i/i_me_0.JPG\n",
      "Saved /home/thomas/Desktop/LIS/Third Lecture/data/i/i_me_1.JPG\n",
      "Saved /home/thomas/Desktop/LIS/Third Lecture/data/i/i_me_2.JPG\n",
      "Data collection finished!\n"
     ]
    }
   ],
   "source": [
    "# Setup\n",
    "mp_hands = mp.solutions.hands\n",
    "mp_drawing = mp.solutions.drawing_utils\n",
    "\n",
    "dirname = 'data'\n",
    "stop = False\n",
    "os.makedirs(os.path.join(os.getcwd(), dirname), exist_ok=True)\n",
    "\n",
    "# Classes (customize this as you like)\n",
    "class_map = {\n",
    "    'h': 'Hello',\n",
    "    't': 'Thanks',\n",
    "    'i': 'I Love You',\n",
    "}\n",
    "\n",
    "# Wait for user input\n",
    "\n",
    "print(\"Press one of the following keys to label the data:\")\n",
    "for key, value in class_map.items():\n",
    "    print(f\"'{key}': {value}\")\n",
    "\n",
    "\n",
    "while not stop:\n",
    "    key = input(\"Enter a key: \").strip().lower()\n",
    "    if key in class_map:\n",
    "        count = 0\n",
    "        print(f\"Selected class: {class_map[key]}\")\n",
    "        print(\"Starting in 5 seconds, prepare gesture...\")\n",
    "        folder_path = os.path.join(os.getcwd(), 'data', str(key))\n",
    "        os.makedirs(folder_path, exist_ok=True)\n",
    "        time.sleep(5)\n",
    "\n",
    "        cap = cv2.VideoCapture(0)\n",
    "\n",
    "        with mp_hands.Hands(min_detection_confidence=0.7, min_tracking_confidence=0.7, max_num_hands=1) as hands:\n",
    "            while cap.isOpened():\n",
    "                ret, frame = cap.read()\n",
    "                if not ret:\n",
    "                    break\n",
    "\n",
    "                frame = cv2.flip(frame, 1)\n",
    "                rgb_frame = cv2.cvtColor(frame, cv2.COLOR_BGR2RGB)\n",
    "                results = hands.process(rgb_frame)\n",
    "\n",
    "                if results.multi_hand_landmarks:\n",
    "                    hand_landmarks = results.multi_hand_landmarks[0]\n",
    "                    mp_drawing.draw_landmarks(frame, hand_landmarks, mp_hands.HAND_CONNECTIONS)\n",
    "\n",
    "                cv2.imshow('Live Feed', frame)\n",
    "\n",
    "                # Wait for key press\n",
    "                key_pressed = cv2.waitKey(1) & 0xFF\n",
    "                if key_pressed == ord('q'):\n",
    "                    break\n",
    "                if key_pressed == ord('s'):\n",
    "                    stop = True\n",
    "                    break\n",
    "                if key_pressed != 255:  # if any other key is pressed\n",
    "                    # 💡 Capture a fresh frame at key press\n",
    "                    ret, capture_frame = cap.read()\n",
    "                    if ret:\n",
    "                        capture_frame = cv2.flip(capture_frame, 1)\n",
    "                        filename = os.path.join(folder_path, f\"{str(key)}_me_{count}.JPG\")\n",
    "                        cv2.imwrite(filename, capture_frame)\n",
    "                        print(f\"Saved {filename}\")\n",
    "                        count += 1\n",
    "\n",
    "        cap.release()\n",
    "        cv2.destroyAllWindows()\n",
    "\n",
    "            \n",
    "        print(\"Data collection finished!\")\n",
    "    \n",
    "    else:\n",
    "        print(\"Invalid key. Please try again.\")\n",
    "\n"
   ]
  }
 ],
 "metadata": {
  "kernelspec": {
   "display_name": "lis-L4bSUyJ--py3.12",
   "language": "python",
   "name": "python3"
  },
  "language_info": {
   "codemirror_mode": {
    "name": "ipython",
    "version": 3
   },
   "file_extension": ".py",
   "mimetype": "text/x-python",
   "name": "python",
   "nbconvert_exporter": "python",
   "pygments_lexer": "ipython3",
   "version": "3.12.3"
  }
 },
 "nbformat": 4,
 "nbformat_minor": 5
}
