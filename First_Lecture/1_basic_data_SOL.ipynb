{
 "cells": [
  {
   "cell_type": "markdown",
   "metadata": {},
   "source": [
    "# Working with data"
   ]
  },
  {
   "cell_type": "markdown",
   "metadata": {},
   "source": [
    "## 1.Introduction to Numpy and Pandas\n",
    "\n",
    "The following tutorial contains examples of using the numpy and pandas library modules. \n",
    "\n",
    "__NUMPY__<br>\n",
    "NumPy stands for Numerical Python.\n",
    "NumPy is a Python library used for working with arrays.\n",
    "It also has functions for working in domain of linear algebra, fourier transform, and matrices.\n",
    "It is an open source project and you can use it freely.\n",
    "You can easly demonstrate that processing using numpy is faster than normal array processing using Python,\n",
    "that becames interesting with big arrays (processing of an array with 1 Million items is 10 time faster)\n",
    "\n",
    "__PANDAS__<br>\n",
    "Pandas is a library for data analysis.\n",
    "\n",
    "\n",
    "---\n",
    "\n",
    "\n",
    "\n",
    "\n",
    "Il seguente tutorial contiene esempi di utilizzo dei moduli delle librerie numpy e pandas.\n",
    "\n",
    "__NUMPY__<br>\n",
    "NumPy sta per Numerical Python (Python Numerico).\n",
    "NumPy è una libreria di Python usata per lavorare con gli array.\n",
    "Include anche funzioni per lavorare nell'ambito dell'algebra lineare, della trasformata di Fourier e delle matrici.\n",
    "È un progetto open source e puoi usarlo liberamente.\n",
    "È facile dimostrare che l'elaborazione con NumPy è più veloce rispetto alla normale elaborazione degli array in Python,\n",
    "il che diventa interessante con array molto grandi (l'elaborazione di un array con 1 milione di elementi è 10 volte più veloce).\n",
    "\n",
    "__PANDAS__ <br>\n",
    "Pandas è una libreria per l'analisi dei dati\n"
   ]
  },
  {
   "cell_type": "code",
   "execution_count": 14,
   "metadata": {},
   "outputs": [],
   "source": [
    "import numpy as np\n",
    "import pandas as pd\n",
    "import matplotlib.pyplot as plt"
   ]
  },
  {
   "cell_type": "markdown",
   "metadata": {},
   "source": [
    "### 1.1 Ndarray\n",
    "The basic data structure in numpy is a multi-dimensional array object called ndarray. Numpy provides a suite of functions that can efficiently manipulate elements of the ndarray. \n",
    "\n",
    "#### 1.1.1 Creating ndarrays\n",
    "\n",
    "An ndarray can be created from a list object as shown in the examples below. It is possible to create a 1-dimensional or multi-dimensional array from the list objects.\n",
    "\n",
    "---\n",
    "\n",
    "La struttura dati di base in NumPy è un oggetto array multidimensionale chiamato ndarray.\n",
    "NumPy fornisce una serie di funzioni che possono manipolare in modo efficiente gli elementi di un ndarray.\n",
    "\n",
    "#### 1.1.1 Creare ndarrays\n",
    "\n",
    "Un ndarray può essere creato da una lista, come mostrato negli esempi qui sotto.\n",
    "È possibile creare un array monodimensionale (1D) o multidimensionale (2D, 3D, ecc.) a partire da liste.\n"
   ]
  },
  {
   "cell_type": "code",
   "execution_count": 15,
   "metadata": {},
   "outputs": [
    {
     "name": "stdout",
     "output_type": "stream",
     "text": [
      "[1. 2. 3. 4. 5.]\n",
      "#Dimensions = 1\n",
      "Dimension = (5,)\n",
      "Size = 5\n",
      "Array type = float64 \n",
      "\n",
      "[[1 2]\n",
      " [3 4]\n",
      " [5 6]\n",
      " [7 8]]\n",
      "#Dimensions = 2\n",
      "Dimension = (4, 2)\n",
      "Size = 8\n",
      "Array type = int64 \n",
      "\n"
     ]
    }
   ],
   "source": [
    "oneDim = np.array([1.0,2,3,4,5])   # a 1-dimensional array (vector)\n",
    "print(oneDim)\n",
    "print(\"#Dimensions =\", oneDim.ndim)\n",
    "print(\"Dimension =\", oneDim.shape)\n",
    "print(\"Size =\", oneDim.size)\n",
    "print(\"Array type =\", oneDim.dtype, '\\n')\n",
    "\n",
    "twoDim = np.array([[1,2],[3,4],[5,6],[7,8]])  # a two-dimensional array (matrix)\n",
    "print(twoDim)\n",
    "print(\"#Dimensions =\", twoDim.ndim)\n",
    "print(\"Dimension =\", twoDim.shape)\n",
    "print(\"Size =\", twoDim.size)\n",
    "print(\"Array type =\", twoDim.dtype, '\\n')"
   ]
  },
  {
   "cell_type": "markdown",
   "metadata": {},
   "source": [
    "There are also built-in functions available in numpy to create the ndarrays.\n",
    "\n",
    "---\n",
    "\n",
    "In NumPy ci sono anche funzioni integrate per creare gli ndarray."
   ]
  },
  {
   "cell_type": "code",
   "execution_count": 16,
   "metadata": {},
   "outputs": [
    {
     "name": "stdout",
     "output_type": "stream",
     "text": [
      "Array of random numbers from a uniform distribution\n",
      "[0.69786389 0.47320992 0.59533356 0.20657355 0.54955879]\n",
      "\n",
      "Array of random numbers from a normal distribution\n",
      "[-2.07336643  1.03275384 -1.91712147  0.52044477  0.33243916]\n",
      "\n",
      "Array of integers between -10 and 10, with step size of 2\n",
      "[-10  -8  -6  -4  -2   0   2   4   6   8]\n",
      "\n",
      "2-dimensional array of integers from 0 to 11\n",
      "[[ 0  1  2  3]\n",
      " [ 4  5  6  7]\n",
      " [ 8  9 10 11]]\n",
      "\n",
      "Array of values between 0 and 1, split into 10 equally spaced values\n",
      "[0.         0.11111111 0.22222222 0.33333333 0.44444444 0.55555556\n",
      " 0.66666667 0.77777778 0.88888889 1.        ]\n",
      "\n",
      "Array of values from 10^-3 to 10^3\n",
      "[1.e-03 1.e-02 1.e-01 1.e+00 1.e+01 1.e+02 1.e+03]\n"
     ]
    }
   ],
   "source": [
    "print('Array of random numbers from a uniform distribution')\n",
    "print(np.random.rand(5))      # random numbers from a uniform distribution between [0,1]\n",
    "\n",
    "print('\\nArray of random numbers from a normal distribution')\n",
    "print(np.random.randn(5))     # random numbers from a normal distribution\n",
    "\n",
    "print('\\nArray of integers between -10 and 10, with step size of 2')\n",
    "print(np.arange(-10,10,2))    # similar to range, but returns ndarray instead of list\n",
    "\n",
    "print('\\n2-dimensional array of integers from 0 to 11')\n",
    "print(np.arange(12).reshape(3,4))  # reshape to a matrix\n",
    "\n",
    "print('\\nArray of values between 0 and 1, split into 10 equally spaced values')\n",
    "print(np.linspace(0,1,10))    # split interval [0,1] into 10 equally separated values\n",
    "\n",
    "print('\\nArray of values from 10^-3 to 10^3')\n",
    "print(np.logspace(-3,3,7))    # create ndarray with values from 10^-3 to 10^3"
   ]
  },
  {
   "cell_type": "code",
   "execution_count": 17,
   "metadata": {},
   "outputs": [
    {
     "name": "stdout",
     "output_type": "stream",
     "text": [
      "A 2 x 3 matrix of zeros\n",
      "[[0. 0. 0.]\n",
      " [0. 0. 0.]]\n",
      "\n",
      "A 3 x 2 matrix of ones\n",
      "[[1. 1.]\n",
      " [1. 1.]\n",
      " [1. 1.]]\n",
      "\n",
      "A 3 x 3 identity matrix\n",
      "[[1. 0. 0.]\n",
      " [0. 1. 0.]\n",
      " [0. 0. 1.]]\n"
     ]
    }
   ],
   "source": [
    "print('A 2 x 3 matrix of zeros')\n",
    "print(np.zeros((2,3)))        # a matrix of zeros\n",
    "\n",
    "print('\\nA 3 x 2 matrix of ones')\n",
    "print(np.ones((3,2)))         # a matrix of ones\n",
    "\n",
    "print('\\nA 3 x 3 identity matrix')\n",
    "print(np.eye(3))     "
   ]
  },
  {
   "cell_type": "markdown",
   "metadata": {},
   "source": [
    "#### ?.1.1 Exercise\n",
    "Create two ndarrays _a_ and _b_, and print an ndarray _c_ where _c_=_a_+_b_ <br>\n",
    "_a_ and _b_ must have 1 dimension.\n",
    "\n",
    "In this case, + is the element-wise summation.\n",
    "\n",
    "---\n",
    "\n",
    "Crea due ndarray _a_ e _b_, e stampa un ndarray _c_ dove _c_ = _a_ + _b_ <br>\n",
    "_a_ e _b_ devono essere array monodimensionali (1D).\n",
    "\n",
    "In questo caso, + indica la somma elemento per elemento."
   ]
  },
  {
   "cell_type": "code",
   "execution_count": 18,
   "metadata": {},
   "outputs": [
    {
     "name": "stdout",
     "output_type": "stream",
     "text": [
      "[0.59967146 1.27102211 3.46470395 2.97404449 3.70537261]\n"
     ]
    }
   ],
   "source": [
    "a = np.array([1.0,2,3,4,5]) \n",
    "b = np.random.randn(5)\n",
    "c = a+b\n",
    "\n",
    "print(c)"
   ]
  },
  {
   "cell_type": "markdown",
   "metadata": {},
   "source": [
    "### 1.1.2 Accessing elements of ndarray (Indexing and slicing)\n",
    "To access elements or subsets of elements of an ndarray, we use the [] operator\n",
    "\n",
    "---\n",
    "\n",
    "### 1.1.2 Accesso agli elementi di un ndarray (Indicizzazione e slicing)\n",
    "Per accedere agli elementi o a sottoinsiemi di elementi di un ndarray, si usa l'operatore []."
   ]
  },
  {
   "cell_type": "code",
   "execution_count": 19,
   "metadata": {},
   "outputs": [
    {
     "name": "stdout",
     "output_type": "stream",
     "text": [
      "The first element of oneDim is  1.0\n",
      "With type  <class 'numpy.float64'> \n",
      "\n",
      "The first 3 elements of oneDim are  [1. 2. 3.]\n",
      "With type  <class 'numpy.ndarray'>\n"
     ]
    }
   ],
   "source": [
    "oneDim = np.array([1.0,2,3,4,5])   # a 1-dimensional array (vector)\n",
    "\n",
    "#Accessing the first element of oneDim\n",
    "print('The first element of oneDim is ', oneDim[0])\n",
    "print('With type ', type(oneDim[0]), '\\n')\n",
    "\n",
    "\n",
    "#Accessing the first 3 elements of oneDim\n",
    "print('The first 3 elements of oneDim are ', oneDim[0:3])\n",
    "print('With type ', type(oneDim[0:3]))\n"
   ]
  },
  {
   "cell_type": "markdown",
   "metadata": {},
   "source": [
    "### ?.1.2 Exercise\n",
    "Create two ndarrays _d_ and _e_ and swap their last two elements\n",
    "\n",
    "---\n",
    "\n",
    "Crea due ndarray _d_ ed _e_ e scambia i loro ultimi due elementi"
   ]
  },
  {
   "cell_type": "code",
   "execution_count": 20,
   "metadata": {},
   "outputs": [
    {
     "name": "stdout",
     "output_type": "stream",
     "text": [
      "d is [-1.296071   -0.05929424  0.71292459  0.23672224 -0.22495801]\n",
      "e is [ 1.04282105 -0.50460462 -0.09930368  0.89344903  0.49909761]\n",
      "tmp is [ 0.23672224 -0.22495801]\n",
      "d after swapping is [-1.296071   -0.05929424  0.71292459  0.89344903  0.49909761]\n",
      "e after swapping is [ 1.04282105 -0.50460462 -0.09930368  0.23672224 -0.22495801]\n"
     ]
    }
   ],
   "source": [
    "d = np.random.randn(5)\n",
    "e = np.random.randn(5)\n",
    "\n",
    "print('d is', d)\n",
    "print('e is', e)\n",
    "\n",
    "tmp = d[-2:].copy()\n",
    "print('tmp is', tmp)\n",
    "\n",
    "d[-2:] = e[-2:]\n",
    "e[-2:] = tmp\n",
    "\n",
    "print('d after swapping is', d)\n",
    "print('e after swapping is', e)\n",
    "\n"
   ]
  },
  {
   "cell_type": "markdown",
   "metadata": {},
   "source": [
    "Assigning a numpy array (or a subset of its elements) to another variable will simply pass a reference to the array instead of copying its values. To make a copy of an ndarray, you need to explicitly call the .copy() function.\n",
    "\n",
    "---\n",
    "\n",
    "Assegnare un array numpy (o un sottoinsieme dei suoi elementi) a un'altra variabile passerà semplicemente un riferimento all'array, invece di copiarne i valori.\n",
    "Per creare una copia di un ndarray, devi chiamare esplicitamente la funzione .copy()."
   ]
  },
  {
   "cell_type": "code",
   "execution_count": 21,
   "metadata": {},
   "outputs": [
    {
     "name": "stdout",
     "output_type": "stream",
     "text": [
      "Before: x = [-5 -4 -3 -2 -1  0  1  2  3  4]\n",
      "        y = [-2 -1]\n",
      "After : y = [1000 1000]\n",
      "        x = [  -5   -4   -3 1000 1000    0    1    2    3    4] \n",
      "\n",
      "Before: x = [  -5   -4   -3 1000 1000    0    1    2    3    4]\n",
      "        z = [1000 1000]\n",
      "After : z = [500 500]\n",
      "        x = [  -5   -4   -3 1000 1000    0    1    2    3    4]\n"
     ]
    }
   ],
   "source": [
    "x = np.arange(-5,5)\n",
    "print('Before: x =', x)\n",
    "\n",
    "y = x[3:5]     # y is a slice, i.e., pointer to a subarray in x\n",
    "print('        y =', y)\n",
    "y[:] = 1000    # modifying the value of y will change x\n",
    "print('After : y =', y)\n",
    "print('        x =', x, '\\n')\n",
    "\n",
    "z = x[3:5].copy()   # makes a copy of the subarray\n",
    "print('Before: x =', x)\n",
    "print('        z =', z)\n",
    "z[:] = 500          # modifying the value of z will not affect x\n",
    "print('After : z =', z)\n",
    "print('        x =', x)"
   ]
  },
  {
   "cell_type": "markdown",
   "metadata": {},
   "source": [
    "## 2.2 Introduction to Pandas\n",
    "\n",
    "Pandas provide two convenient data structures for storing and manipulating data--Series and DataFrame. A Series is similar to a one-dimensional array whereas a DataFrame is a tabular representation akin to a spreadsheet table.  \n",
    "\n",
    "In this tutorial we will only consider the dataframe.\n",
    "\n",
    "---\n",
    "\n",
    "Pandas fornisce due strutture dati comode per memorizzare e manipolare i dati: Series e DataFrame.\n",
    "Una Series è simile a un array monodimensionale, mentre un DataFrame è una rappresentazione tabellare simile a una tabella di un foglio di calcolo.\n",
    "\n",
    "In questo tutorial andremo a vedere solamente il dataframe.\n"
   ]
  },
  {
   "cell_type": "code",
   "execution_count": 22,
   "metadata": {},
   "outputs": [
    {
     "data": {
      "text/html": [
       "<div>\n",
       "<style scoped>\n",
       "    .dataframe tbody tr th:only-of-type {\n",
       "        vertical-align: middle;\n",
       "    }\n",
       "\n",
       "    .dataframe tbody tr th {\n",
       "        vertical-align: top;\n",
       "    }\n",
       "\n",
       "    .dataframe thead th {\n",
       "        text-align: right;\n",
       "    }\n",
       "</style>\n",
       "<table border=\"1\" class=\"dataframe\">\n",
       "  <thead>\n",
       "    <tr style=\"text-align: right;\">\n",
       "      <th></th>\n",
       "      <th>make</th>\n",
       "      <th>model</th>\n",
       "      <th>MSRP</th>\n",
       "    </tr>\n",
       "  </thead>\n",
       "  <tbody>\n",
       "    <tr>\n",
       "      <th>0</th>\n",
       "      <td>Fordaa</td>\n",
       "      <td>Taurus</td>\n",
       "      <td>27595</td>\n",
       "    </tr>\n",
       "    <tr>\n",
       "      <th>1</th>\n",
       "      <td>Honda</td>\n",
       "      <td>Accord</td>\n",
       "      <td>23570</td>\n",
       "    </tr>\n",
       "    <tr>\n",
       "      <th>2</th>\n",
       "      <td>Toyota</td>\n",
       "      <td>Camry</td>\n",
       "      <td>23495</td>\n",
       "    </tr>\n",
       "    <tr>\n",
       "      <th>3</th>\n",
       "      <td>Tesla</td>\n",
       "      <td>Model S</td>\n",
       "      <td>68000</td>\n",
       "    </tr>\n",
       "  </tbody>\n",
       "</table>\n",
       "</div>"
      ],
      "text/plain": [
       "     make    model   MSRP\n",
       "0  Fordaa   Taurus  27595\n",
       "1   Honda   Accord  23570\n",
       "2  Toyota    Camry  23495\n",
       "3   Tesla  Model S  68000"
      ]
     },
     "execution_count": 22,
     "metadata": {},
     "output_type": "execute_result"
    }
   ],
   "source": [
    "from pandas import DataFrame\n",
    "\n",
    "cars = {'make': ['Fordaa', 'Honda', 'Toyota', 'Tesla'],\n",
    "       'model': ['Taurus', 'Accord', 'Camry', 'Model S'],\n",
    "       'MSRP': [27595, 23570, 23495, 68000]}          \n",
    "carData = DataFrame(cars)            # creating DataFrame from dictionary\n",
    "carData                              # display the table"
   ]
  },
  {
   "cell_type": "markdown",
   "metadata": {},
   "source": [
    "Creating a dataframe from an np array\n",
    "\n",
    "---\n",
    "\n",
    "Creare un dataframe da un np array\n"
   ]
  },
  {
   "cell_type": "code",
   "execution_count": 23,
   "metadata": {},
   "outputs": [
    {
     "data": {
      "text/html": [
       "<div>\n",
       "<style scoped>\n",
       "    .dataframe tbody tr th:only-of-type {\n",
       "        vertical-align: middle;\n",
       "    }\n",
       "\n",
       "    .dataframe tbody tr th {\n",
       "        vertical-align: top;\n",
       "    }\n",
       "\n",
       "    .dataframe thead th {\n",
       "        text-align: right;\n",
       "    }\n",
       "</style>\n",
       "<table border=\"1\" class=\"dataframe\">\n",
       "  <thead>\n",
       "    <tr style=\"text-align: right;\">\n",
       "      <th></th>\n",
       "      <th>x1</th>\n",
       "      <th>x2</th>\n",
       "      <th>x3</th>\n",
       "    </tr>\n",
       "  </thead>\n",
       "  <tbody>\n",
       "    <tr>\n",
       "      <th>0</th>\n",
       "      <td>0.737017</td>\n",
       "      <td>-0.116260</td>\n",
       "      <td>0.663822</td>\n",
       "    </tr>\n",
       "    <tr>\n",
       "      <th>1</th>\n",
       "      <td>-1.020107</td>\n",
       "      <td>0.739904</td>\n",
       "      <td>-0.806843</td>\n",
       "    </tr>\n",
       "    <tr>\n",
       "      <th>2</th>\n",
       "      <td>-0.999268</td>\n",
       "      <td>0.669112</td>\n",
       "      <td>0.139238</td>\n",
       "    </tr>\n",
       "    <tr>\n",
       "      <th>3</th>\n",
       "      <td>2.144459</td>\n",
       "      <td>0.349849</td>\n",
       "      <td>0.096260</td>\n",
       "    </tr>\n",
       "    <tr>\n",
       "      <th>4</th>\n",
       "      <td>2.229497</td>\n",
       "      <td>1.775206</td>\n",
       "      <td>0.076810</td>\n",
       "    </tr>\n",
       "  </tbody>\n",
       "</table>\n",
       "</div>"
      ],
      "text/plain": [
       "         x1        x2        x3\n",
       "0  0.737017 -0.116260  0.663822\n",
       "1 -1.020107  0.739904 -0.806843\n",
       "2 -0.999268  0.669112  0.139238\n",
       "3  2.144459  0.349849  0.096260\n",
       "4  2.229497  1.775206  0.076810"
      ]
     },
     "execution_count": 23,
     "metadata": {},
     "output_type": "execute_result"
    }
   ],
   "source": [
    "import numpy as np\n",
    "\n",
    "npdata = np.random.randn(5,3)  # create a 5 by 3 random matrix\n",
    "columnNames = ['x1','x2','x3']\n",
    "data = DataFrame(npdata, columns=columnNames)\n",
    "data"
   ]
  },
  {
   "cell_type": "markdown",
   "metadata": {},
   "source": [
    "### ?.2.1 Exercise 1: Analyzing Online Store Sales Data\n",
    "\n",
    "__Objective:__ \n",
    "The goal is to analize and visualize sales and revenue data from an online store\n",
    "\n",
    "---\n",
    "\n",
    "__Obiettivo:__\n",
    "L'obiettivo è analizzare e visualizzare i dati sulle vendite e sui ricavi di un negozio online."
   ]
  },
  {
   "cell_type": "code",
   "execution_count": 24,
   "metadata": {},
   "outputs": [],
   "source": [
    "np.random.seed(0)\n",
    "months = np.arange(1, 13)\n",
    "sales = np.random.randint(100, 1000, 12)\n",
    "revenue = np.random.uniform(5000, 20000, 12)"
   ]
  },
  {
   "cell_type": "code",
   "execution_count": 25,
   "metadata": {},
   "outputs": [],
   "source": [
    "data = pd.DataFrame({'Month': months, 'Sales': sales, 'Revenue': revenue})"
   ]
  },
  {
   "cell_type": "markdown",
   "metadata": {},
   "source": [
    "Calculate and display basic statistics for the data using pandas. For example, you can show the mean, median, and standard deviation of sales and revenue.\n",
    "\n",
    "TIPS: <br>\n",
    "👉 data['Sales'].mean() \n",
    "https://pandas.pydata.org/docs/reference/api/pandas.DataFrame.mean.html\n",
    "\n",
    "---\n",
    "\n",
    "Calcola e visualizza le statistiche di base per i dati usando pandas.\n",
    "Ad esempio, puoi mostrare la media, la mediana e la deviazione standard delle vendite e dei ricavi.\n",
    "\n",
    "Suggerimento: <br>\n",
    "👉 data['Sales'].mean() — Calcola la media delle vendite\n",
    "https://pandas.pydata.org/docs/reference/api/pandas.DataFrame.mean.html"
   ]
  },
  {
   "cell_type": "code",
   "execution_count": 26,
   "metadata": {},
   "outputs": [
    {
     "name": "stdout",
     "output_type": "stream",
     "text": [
      "Mean Sales: 640.9166666666666\n",
      "Median Revenue: 13227.046106351276\n",
      "Standard Deviation of Sales: 265.93418814481606\n"
     ]
    }
   ],
   "source": [
    "sales_mean = data['Sales'].mean()\n",
    "revenue_median = data['Revenue'].median()\n",
    "sales_std = data['Sales'].std()\n",
    "print(f\"Mean Sales: {sales_mean}\")\n",
    "print(f\"Median Revenue: {revenue_median}\")\n",
    "print(f\"Standard Deviation of Sales: {sales_std}\")"
   ]
  },
  {
   "cell_type": "markdown",
   "metadata": {},
   "source": [
    "Visualize the data using Matplotlib. Create a plot to show the monthly sales and a line plot for monthly revenue.\n",
    "\n",
    "---\n",
    "\n",
    "Visualizza i dati usando Matplotlib.\n",
    "Crea un grafico per mostrare le vendite mensili e un grafico a linee per il ricavo mensile.\n",
    "\n"
   ]
  },
  {
   "cell_type": "code",
   "execution_count": 27,
   "metadata": {},
   "outputs": [
    {
     "data": {
      "image/png": "[encoded data removed]",
      "text/plain": [
       "<Figure size 1000x500 with 2 Axes>"
      ]
     },
     "metadata": {},
     "output_type": "display_data"
    }
   ],
   "source": [
    "plt.figure(figsize=(10, 5))\n",
    "\n",
    "plt.subplot(1, 2, 1)\n",
    "plt.bar(data['Month'], data['Sales'])\n",
    "plt.xlabel('Month')\n",
    "plt.ylabel('Sales')\n",
    "plt.title('Monthly Sales')\n",
    "\n",
    "plt.subplot(1, 2, 2)\n",
    "plt.plot(data['Month'], data['Revenue'], marker='o', color='g')\n",
    "plt.xlabel('Month')\n",
    "plt.ylabel('Revenue')\n",
    "plt.title('Monthly Revenue')\n",
    "\n",
    "plt.tight_layout()\n",
    "plt.show()\n"
   ]
  }
 ],
 "metadata": {
  "kernelspec": {
   "display_name": "lis-1lWkbulZ-py3.12",
   "language": "python",
   "name": "python3"
  },
  "language_info": {
   "codemirror_mode": {
    "name": "ipython",
    "version": 3
   },
   "file_extension": ".py",
   "mimetype": "text/x-python",
   "name": "python",
   "nbconvert_exporter": "python",
   "pygments_lexer": "ipython3",
   "version": "3.12.3"
  }
 },
 "nbformat": 4,
 "nbformat_minor": 2
}
