{
 "cells": [
  {
   "cell_type": "markdown",
   "metadata": {},
   "source": [
    "# 1. Model to predict logic AND values\n",
    "In this tutorial, we are going to experiment with basic deep learning models, in particular with MultiLayer Perceptron(https://en.wikipedia.org/wiki/).\n",
    "\n",
    "We are going to use a very simple task: the prediction of the logic AND operator.\n",
    "\n",
    "## 1.1 Logical AND Truth Table\n",
    "\n",
    "The logical AND operation (denoted as `A ∧ B`) returns `true` if **both** operands are `true`.\n",
    "\n",
    "\n",
    "| A (I study for the exam) | B (I get enough sleep) | A ∧ B (Result)                           |\n",
    "|--------------------------|--------------------|-------------------------------------------|\n",
    "| false                    | false              | false (neither study nor sleep enough)    |\n",
    "| false                    | true               | false (don't study, but sleep enough)     |\n",
    "| true                     | false              | false (study, but don't sleep enough)     |\n",
    "| true                     | true               | true (study and sleep enough)             |\n",
    "\n",
    "Instead of 'true' and 'false', we can use a series of 0's and 1's.\n",
    "\n",
    "Let:\n",
    "- A = \"I study for the exam\"\n",
    "- B = \"I sleep enough\"\n",
    "- 1 = true\n",
    "- 0 = false\n",
    "\n",
    "| A | B | A ∧ B | Interpretation                          |\n",
    "|---|---|--------|-----------------------------------------|\n",
    "| 0 | 0 |   0    | I don’t study and I don’t sleep enough  |\n",
    "| 0 | 1 |   0    | I don’t study but I sleep enough        |\n",
    "| 1 | 0 |   0    | I study but I don’t sleep enough        |\n",
    "| 1 | 1 |   1    | I study and I sleep enough              |\n",
    "\n",
    "\n",
    "This tutorial consists in, given the dataset of truth values of A and B, predict the AND value in output using a deep learning model.\n",
    "\n",
    "<br><br><hr><br><br>\n",
    "\n",
    "# 1. Modello per prevedere i valori dell'operatore logico AND\n",
    "In questo tutorial, andremo a sperimentare modelli di deep learning di base, in particolare il Percettrone Multistrato (MultiLayer Perceptron) (https://en.wikipedia.org/wiki/).\n",
    "\n",
    "Utilizzeremo un esercizio molto semplice: la previsione dell’operatore logico AND.\n",
    "\n",
    "## 1.1 Tabella di verità dell’AND logico\n",
    "\n",
    "L’operazione logico AND (indicato come `A ∧ B`) restituisce `vero` se **entrambi** gli operandi sono `veri`.\n",
    "\n",
    "| A (Studio per l'esame)  | B (Dormo abbastanza)     | A ∧ B (Risultato)                         |\n",
    "|-------------------------|--------------------------|-------------------------------------------|\n",
    "| falso                   | falso                    | falso (né studio né dormo abbastanza)     |\n",
    "| falso                   | vero                     | falso (non studio, ma dormo abbastanza)   |\n",
    "| vero                    | falso                    | falso (studio, ma non dormo abbastanza)   |\n",
    "| vero                    | vero                     | vero (studio e dormo abbastanza)          |\n",
    "\n",
    "Al posto di 'vero' e 'falso', possiamo usare una sequenza di 0 e 1.\n",
    "\n",
    "Sia:\n",
    "- A = \"Studio per l’esame\"\n",
    "- B = \"Dormo abbastanza\"\n",
    "- 1 = vero\n",
    "- 0 = falso\n",
    "\n",
    "| A | B | A ∧ B | Interpretazione                            |\n",
    "|---|---|--------|--------------------------------------------|\n",
    "| 0 | 0 |   0    | Non studio e non dormo abbastanza          |\n",
    "| 0 | 1 |   0    | Non studio ma dormo abbastanza             |\n",
    "| 1 | 0 |   0    | Studio ma non dormo abbastanza             |\n",
    "| 1 | 1 |   1    | Studio e dormo abbastanza                  |\n",
    "\n",
    "Questo tutorial consiste nel prevedere, dato un dataset con i valori di verità di A e B, il valore di A ∧ B in output usando un modello di deep learning.\n",
    "\n"
   ]
  },
  {
   "cell_type": "markdown",
   "metadata": {},
   "source": [
    "Start by importing the right libraries\n",
    "<br><hr><br>\n",
    "Cominciamo con l'importare le giuste librerie"
   ]
  },
  {
   "cell_type": "code",
   "execution_count": 29,
   "metadata": {},
   "outputs": [],
   "source": [
    "import torch\n",
    "import torch.nn as nn\n",
    "import torch.optim as optim\n",
    "import matplotlib.pyplot as plt\n",
    "import numpy as np"
   ]
  },
  {
   "cell_type": "markdown",
   "metadata": {},
   "source": [
    "## 1.2 Generate the dataset\n",
    "\n",
    "Create a dataset for the problem. \n",
    "\n",
    "The dataset `X` and the label `y` must be numpy arrays.\n",
    "<hr>\n",
    "\n",
    "## 1.2 Generare il dataset\n",
    "\n",
    "Crea un dataset per il problema.  \n",
    "\n",
    "Il dataset `X` e i valori di riferimento `y` devono essere numpy arrays.  "
   ]
  },
  {
   "cell_type": "code",
   "execution_count": 30,
   "metadata": {},
   "outputs": [
    {
     "name": "stdout",
     "output_type": "stream",
     "text": [
      "X: [[0. 0.]\n",
      " [0. 1.]\n",
      " [1. 0.]\n",
      " [1. 1.]]\n",
      "\n",
      "y: (4,)\n",
      "y: (4, 1)\n"
     ]
    }
   ],
   "source": [
    "# AND logic truth table inputs and outputs\n",
    "X = np.array([[0, 0],\n",
    "                   [0, 1],\n",
    "                   [1, 0],\n",
    "                   [1, 1]], dtype=np.float32)\n",
    "\n",
    "y1 = np.array([0,0,0,1], dtype=np.float32)\n",
    "y2 = np.array([[0],[0],[0],[1]], dtype=np.float32)\n",
    "\n",
    "print(\"X:\", X)\n",
    "print()\n",
    "print(\"y:\", y1.shape)\n",
    "print(\"y:\", y2.shape)\n"
   ]
  },
  {
   "cell_type": "code",
   "execution_count": 31,
   "metadata": {},
   "outputs": [],
   "source": [
    "# Convert to PyTorch tensors\n",
    "X = torch.tensor(X)\n",
    "y = torch.tensor(y2)"
   ]
  },
  {
   "cell_type": "markdown",
   "metadata": {},
   "source": [
    "## 1.3 Create the model class\n",
    "\n",
    "Now, we are going to see how to instantiate a deep learning model in Pytorch.\n",
    "\n",
    "PyTorch is an open-source machine learning library that provides flexible tools for building and training deep learning models, with strong support for dynamic computation graphs and GPU acceleration (https://pytorch.org/).\n",
    "\n",
    "A pytorch model extends the `nn.Module` class and must define an `__init__` function to specify and initialize the model’s layers and parameters, and a `forward` function to define the computation that occurs when data passes through the model.\n",
    "<hr>\n",
    "\n",
    "## 1.3 Creare la classe del modello\n",
    "\n",
    "Ora vedremo come istanziare un modello di deep learning in PyTorch.\n",
    "\n",
    "PyTorch è una libreria open-source per il machine learning che fornisce strumenti flessibili per costruire e addestrare modelli di deep learning, con un forte supporto per i grafi computazionali dinamici e l'accelerazione tramite GPU (https://pytorch.org/).\n",
    "\n",
    "Un modello in PyTorch estende la classe `nn.Module` e deve definire una funzione `__init__` per specificare e inizializzare i layer e i parametri del modello, e una funzione `forward` per definire il calcolo che avviene quando i dati passano attraverso il modello.\n",
    "\n"
   ]
  },
  {
   "cell_type": "code",
   "execution_count": 32,
   "metadata": {},
   "outputs": [],
   "source": [
    "\n",
    "# Define a single-layer model\n",
    "class ANDClassifier(nn.Module):\n",
    "    def __init__(self):\n",
    "        super(ANDClassifier, self).__init__()\n",
    "        self.layer = nn.Linear(2, 1)  # Single neuron\n",
    "        \n",
    "    def forward(self, x):\n",
    "        x = self.layer(x)\n",
    "        x = torch.sigmoid(x)  # Sigmoid for binary classification\n",
    "        return x\n",
    "    \n",
    "# Initialize the model\n",
    "model = ANDClassifier()\n"
   ]
  },
  {
   "cell_type": "markdown",
   "metadata": {},
   "source": [
    "We can check the specifics of our model, accessing every parameter it has separately\n",
    "<hr>\n",
    "\n",
    "Possiamo verificare i dettagli del nostro modello accedendo separatamente a ciascun parametro che lo compone.\n"
   ]
  },
  {
   "cell_type": "code",
   "execution_count": 33,
   "metadata": {},
   "outputs": [
    {
     "name": "stdout",
     "output_type": "stream",
     "text": [
      "layer.weight Parameter containing:\n",
      "tensor([[0.2286, 0.2090]], requires_grad=True)\n",
      "layer.bias Parameter containing:\n",
      "tensor([0.2015], requires_grad=True)\n"
     ]
    }
   ],
   "source": [
    "for name, param in model.named_parameters():\n",
    "    print(name, param)"
   ]
  },
  {
   "cell_type": "code",
   "execution_count": 34,
   "metadata": {},
   "outputs": [
    {
     "name": "stdout",
     "output_type": "stream",
     "text": [
      "Output: tensor([[0.5502],\n",
      "        [0.6012],\n",
      "        [0.6059],\n",
      "        [0.6546]], grad_fn=<SigmoidBackward0>)\n"
     ]
    }
   ],
   "source": [
    "output = model(X)\n",
    "print(\"Output:\", output)"
   ]
  },
  {
   "cell_type": "markdown",
   "metadata": {},
   "source": [
    "## 1.4 The training loop\n",
    "Now, we are going to start looking at the training of the model. Training is the process of altering the weights of the model so that the outputs values are more similar to the desired ones.\n",
    "We create two objects, representing:\n",
    "- The loss function\n",
    "- The optimizer\n",
    "\n",
    "### 1.4.1 The loss function\n",
    "A loss function measures how far the model's predictions are from the true values, guiding the learning process during training.\n",
    "\n",
    "### 1.4.2 The optimizer\n",
    "An optimizer is an algorithm that adjusts the model’s parameters based on the loss to help it learn and improve over time.\n",
    "\n",
    "<hr>\n",
    "\n",
    "## 1.4 Il ciclo di addestramento\n",
    "\n",
    "Ora inizieremo a osservare l’addestramento del modello. L’addestramento è il processo di modifica dei pesi del modello affinché i valori in uscita siano sempre più simili a quelli desiderati.  \n",
    "Creiamo due oggetti che rappresentano:\n",
    "- La funzione di perdita (loss function)\n",
    "- L’ottimizzatore\n",
    "\n",
    "### 1.4.1 La funzione di perdita\n",
    "\n",
    "Una funzione di perdita misura quanto le predizioni del modello si discostano dai valori reali, guidando il processo di apprendimento durante l’addestramento.\n",
    "\n",
    "### 1.4.2 L’ottimizzatore\n",
    "\n",
    "Un ottimizzatore è un algoritmo che regola i parametri del modello in base alla perdita, per aiutarlo ad apprendere e migliorare nel tempo.\n"
   ]
  },
  {
   "cell_type": "code",
   "execution_count": 35,
   "metadata": {},
   "outputs": [],
   "source": [
    "# Loss and optimizer\n",
    "criterion = nn.BCELoss()  # Binary Cross Entropy Loss\n",
    "optimizer = optim.Adam(model.parameters(), lr=0.1)"
   ]
  },
  {
   "cell_type": "markdown",
   "metadata": {},
   "source": [
    "\n",
    "- The `BCELoss` function in PyTorch is used for binary classification and compares the predicted probability (between 0 and 1) to the true label (0 or 1) using binary cross-entropy\n",
    "\n",
    "- The `Adam` optimizer is an adaptive learning rate method\n",
    "\n",
    "<hr>\n",
    "\n",
    "- La funzione `BCELoss` in PyTorch viene utilizzata per la classificazione binaria e confronta la probabilità predetta (compresa tra 0 e 1) con l’etichetta reale (0 o 1) utilizzando la cross-entropia binaria.\n",
    "\n",
    "- L’ottimizzatore `Adam` è un metodo che sfrutta un rateo di apprendimento adattivo.\n"
   ]
  },
  {
   "cell_type": "markdown",
   "metadata": {},
   "source": [
    "# 1.4.3 Running the loop"
   ]
  },
  {
   "cell_type": "code",
   "execution_count": 36,
   "metadata": {},
   "outputs": [
    {
     "name": "stdout",
     "output_type": "stream",
     "text": [
      "Epoch [100/1000], Loss: 0.1081\n",
      "Epoch [200/1000], Loss: 0.0466\n",
      "Epoch [300/1000], Loss: 0.0266\n",
      "Epoch [400/1000], Loss: 0.0175\n",
      "Epoch [500/1000], Loss: 0.0125\n",
      "Epoch [600/1000], Loss: 0.0095\n",
      "Epoch [700/1000], Loss: 0.0074\n",
      "Epoch [800/1000], Loss: 0.0060\n",
      "Epoch [900/1000], Loss: 0.0050\n",
      "Epoch [1000/1000], Loss: 0.0042\n"
     ]
    }
   ],
   "source": [
    "\n",
    "# Training loop\n",
    "epochs = 1000\n",
    "\n",
    "for epoch in range(epochs):\n",
    "    optimizer.zero_grad()\n",
    "    outputs = model(X)\n",
    "    loss = criterion(outputs, y)\n",
    "    loss.backward()\n",
    "    optimizer.step()\n",
    "\n",
    "    if (epoch + 1) % 100 == 0:\n",
    "        print(f'Epoch [{epoch + 1}/{epochs}], Loss: {loss.item():.4f}')\n"
   ]
  },
  {
   "cell_type": "markdown",
   "metadata": {},
   "source": [
    "Now, the model has been trained. We can print the parameters values again to see if they are different from before\n",
    "\n",
    "<hr>\n",
    "\n",
    "Ora il modello è stato addestrato. Possiamo stampare nuovamente i valori dei parametri per vedere se sono cambiati rispetto a prima.\n"
   ]
  },
  {
   "cell_type": "code",
   "execution_count": 37,
   "metadata": {},
   "outputs": [
    {
     "name": "stdout",
     "output_type": "stream",
     "text": [
      "layer.weight Parameter containing:\n",
      "tensor([[10.3373, 10.3369]], requires_grad=True)\n",
      "layer.bias Parameter containing:\n",
      "tensor([-15.5669], requires_grad=True)\n"
     ]
    }
   ],
   "source": [
    "for name, param in model.named_parameters():\n",
    "    print(name, param)"
   ]
  },
  {
   "cell_type": "markdown",
   "metadata": {},
   "source": [
    "## 2.1 Evaluation\n",
    "Now that we have trained the model, we have to check if these learned weights are actually correct.\n",
    "\n",
    "In this case, a good evaluation metric is the accuracy.\n",
    "\n",
    "### 2.1.1 Accuracy\n",
    "Accuracy is the percentage of correct predictions made by a model out of all the predictions it made.\n",
    "\n",
    "Accuracy = $\\frac{\\text{Number of Correct Predictions}}{\\text{Total Number of Predictions}}$\n",
    "\n",
    "<hr>\n",
    "\n",
    "## 2.1 Valutazione\n",
    "\n",
    "Ora che abbiamo addestrato il modello, dobbiamo verificare se i pesi appresi sono effettivamente corretti.\n",
    "\n",
    "In questo caso, una buona metrica di valutazione è l'accuratezza.\n",
    "\n",
    "### 2.1.1 Accuratezza\n",
    "\n",
    "L'accuratezza è la percentuale di predizioni corrette fatte da un modello rispetto a tutte le predizioni effettuate.\n",
    "\n",
    "Accuratezza = $\\frac{\\text{Numero di Predizioni Corrette}}{\\text{Numero Totale di Predizioni}}$\n",
    "\n"
   ]
  },
  {
   "cell_type": "code",
   "execution_count": 38,
   "metadata": {},
   "outputs": [
    {
     "name": "stdout",
     "output_type": "stream",
     "text": [
      "\n",
      "Accuracy: 100.00%\n"
     ]
    }
   ],
   "source": [
    "\n",
    "# Evaluate the model\n",
    "with torch.no_grad():\n",
    "    predictions = model(X).round()\n",
    "    accuracy = (predictions.eq(y).sum().float() / y.size(0)).item()\n",
    "    print(f'\\nAccuracy: {accuracy * 100:.2f}%')\n"
   ]
  },
  {
   "cell_type": "markdown",
   "metadata": {},
   "source": [
    "## 3.1 Interpreting the model"
   ]
  },
  {
   "cell_type": "code",
   "execution_count": 39,
   "metadata": {},
   "outputs": [
    {
     "name": "stdout",
     "output_type": "stream",
     "text": [
      "\n",
      "Predictions:\n",
      "[0.0, 0.0] -> Predicted: NOT AND\n",
      "[0.0, 1.0] -> Predicted: NOT AND\n",
      "[1.0, 0.0] -> Predicted: NOT AND\n",
      "[1.0, 1.0] -> Predicted: AND\n"
     ]
    }
   ],
   "source": [
    "# Test predictions\n",
    "print(\"\\nPredictions:\")\n",
    "for i in range(len(X)):\n",
    "    pred = predictions[i].item()\n",
    "    op = 'AND' if pred == 1 else 'NOT AND'\n",
    "    print(f\"{X[i].tolist()} -> Predicted: {op}\")\n",
    "\n"
   ]
  },
  {
   "cell_type": "code",
   "execution_count": 40,
   "metadata": {},
   "outputs": [
    {
     "data": {
      "image/png": "[encoded data removed]",
      "text/plain": [
       "<Figure size 600x600 with 1 Axes>"
      ]
     },
     "metadata": {},
     "output_type": "display_data"
    }
   ],
   "source": [
    "# Extract the learned weights and bias\n",
    "w1, w2 = model.layer.weight[0].detach().numpy()\n",
    "b = model.layer.bias[0].detach().numpy()\n",
    "# Plot the points\n",
    "plt.figure(figsize=(6, 6))\n",
    "colors = ['red' if label == 0 else 'blue' for label in y.numpy().flatten()]\n",
    "plt.scatter(X[:, 0], X[:, 1], c=colors, s=100, edgecolors='k', label='Data Points')\n",
    "\n",
    "# Plot the learned decision boundary\n",
    "x1 = np.linspace(-0.5, 1.5, 100)\n",
    "x2 = -(w2 * x1 + b) / w1\n",
    "plt.plot(x1, x2, label='Decision Boundary', color='green')\n",
    "x2 = -(w1 * x1 + b) / w2\n",
    "plt.plot(x1, x2, label='Decision Boundary', color='red')\n",
    "\n",
    "# Formatting\n",
    "plt.xlim(-0.2, 1.2)\n",
    "plt.ylim(-0.2, 1.2)\n",
    "plt.axhline(0, color='black', linestyle='--', linewidth=1)\n",
    "plt.axvline(0, color='black', linestyle='--', linewidth=1)\n",
    "plt.xlabel('x1')\n",
    "plt.ylabel('x2')\n",
    "plt.title('AND Perceptron Learned Decision Boundary')\n",
    "plt.legend()\n",
    "plt.grid(True)\n",
    "\n",
    "plt.show()"
   ]
  }
 ],
 "metadata": {
  "kernelspec": {
   "display_name": "lis-1lWkbulZ-py3.12",
   "language": "python",
   "name": "python3"
  },
  "language_info": {
   "codemirror_mode": {
    "name": "ipython",
    "version": 3
   },
   "file_extension": ".py",
   "mimetype": "text/x-python",
   "name": "python",
   "nbconvert_exporter": "python",
   "pygments_lexer": "ipython3",
   "version": "3.12.3"
  }
 },
 "nbformat": 4,
 "nbformat_minor": 2
}
