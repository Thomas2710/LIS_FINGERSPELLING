{
 "cells": [
  {
   "cell_type": "markdown",
   "metadata": {},
   "source": [
    "# Create and experiment with your own model\n",
    "Take a look at https://pytorch.org/docs/stable/nn.html and compose your own model with multiple layers\n",
    "<hr>\n",
    "\n",
    "# Crea e sperimenta un tuo modello\n",
    "Dai un’occhiata a https://pytorch.org/docs/stable/nn.html e crea un tuo modello personalizzato con più layer.\n"
   ]
  },
  {
   "cell_type": "code",
   "execution_count": null,
   "metadata": {},
   "outputs": [],
   "source": [
    "import torch\n",
    "from torch import nn\n",
    "\n",
    "class MyModel(nn.Module):\n",
    "    def __init__(self):\n",
    "        pass\n",
    "\n",
    "    def forward(self, x):\n",
    "        pass\n"
   ]
  },
  {
   "cell_type": "markdown",
   "metadata": {},
   "source": [
    "# Generate some synthetic input data that passes through the `forward` function of the model without raising errors\n",
    "\n",
    "<hr>\n",
    "\n",
    "# Genera artificialmente dei dati di input per il modello che non generino errore se passati alla funzione `forward`"
   ]
  },
  {
   "cell_type": "code",
   "execution_count": null,
   "metadata": {},
   "outputs": [],
   "source": [
    "X = 'Generate synthetic data'\n",
    "\n",
    "# Convert to PyTorch tensors\n",
    "X = torch.tensor(X)\n"
   ]
  },
  {
   "cell_type": "code",
   "execution_count": null,
   "metadata": {},
   "outputs": [],
   "source": [
    "model = MyModel()\n",
    "predizione = model(X)"
   ]
  }
 ],
 "metadata": {
  "kernelspec": {
   "display_name": "lis-1lWkbulZ-py3.12",
   "language": "python",
   "name": "python3"
  },
  "language_info": {
   "name": "python",
   "version": "3.12.3"
  }
 },
 "nbformat": 4,
 "nbformat_minor": 2
}
